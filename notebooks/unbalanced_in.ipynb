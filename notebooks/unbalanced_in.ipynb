{
 "cells": [
  {
   "cell_type": "code",
   "execution_count": 1,
   "metadata": {},
   "outputs": [],
   "source": [
    "%load_ext autoreload\n",
    "%autoreload 2"
   ]
  },
  {
   "cell_type": "code",
   "execution_count": 2,
   "metadata": {},
   "outputs": [],
   "source": [
    "import numpy as np\n",
    "import pandas as pd\n",
    "from fancpq.dataset import FANCDataset, data_dir"
   ]
  },
  {
   "cell_type": "code",
   "execution_count": 3,
   "metadata": {},
   "outputs": [],
   "source": [
    "ds = FANCDataset.from_path(data_dir / 'dump' / 'bc_dump_1674644403')"
   ]
  },
  {
   "cell_type": "code",
   "execution_count": 4,
   "metadata": {},
   "outputs": [],
   "source": [
    "nerve_bundle_rootids = ds.nerve_bundle_table['remat_segment_id']\n",
    "neck_connective_rootids = ds.neck_connective_table['remat_segment_id']\n",
    "interneuron_node_table = ds.node_table[\n",
    "    ~np.isin(ds.node_table.index,\n",
    "             pd.concat([nerve_bundle_rootids, neck_connective_rootids]))\n",
    "]"
   ]
  },
  {
   "cell_type": "code",
   "execution_count": 5,
   "metadata": {},
   "outputs": [
    {
     "data": {
      "text/plain": [
       "FANCDataset(\n",
       "    mat_timestep=1674644403 (2023-01-25T12:00:03),\n",
       "    version_data_dir=/home/sibwang/Data/fanc/fancpq/dump/bc_dump_1674644403,\n",
       "    |V|=23112726, |E|=31493003\n",
       ")"
      ]
     },
     "execution_count": 5,
     "metadata": {},
     "output_type": "execute_result"
    }
   ],
   "source": [
    "ds"
   ]
  },
  {
   "cell_type": "code",
   "execution_count": 6,
   "metadata": {},
   "outputs": [],
   "source": [
    "interneuron_node_table = interneuron_node_table[\n",
    "    interneuron_node_table['nr_pre'] + interneuron_node_table['nr_post'] >= 10\n",
    "]"
   ]
  },
  {
   "cell_type": "code",
   "execution_count": 7,
   "metadata": {},
   "outputs": [
    {
     "data": {
      "text/html": [
       "<div>\n",
       "<style scoped>\n",
       "    .dataframe tbody tr th:only-of-type {\n",
       "        vertical-align: middle;\n",
       "    }\n",
       "\n",
       "    .dataframe tbody tr th {\n",
       "        vertical-align: top;\n",
       "    }\n",
       "\n",
       "    .dataframe thead th {\n",
       "        text-align: right;\n",
       "    }\n",
       "</style>\n",
       "<table border=\"1\" class=\"dataframe\">\n",
       "  <thead>\n",
       "    <tr style=\"text-align: right;\">\n",
       "      <th></th>\n",
       "      <th>size</th>\n",
       "      <th>nr_pre</th>\n",
       "      <th>nr_downstream_partner</th>\n",
       "      <th>nr_post</th>\n",
       "      <th>nr_upstream_partner</th>\n",
       "    </tr>\n",
       "    <tr>\n",
       "      <th>segment_id</th>\n",
       "      <th></th>\n",
       "      <th></th>\n",
       "      <th></th>\n",
       "      <th></th>\n",
       "      <th></th>\n",
       "    </tr>\n",
       "  </thead>\n",
       "  <tbody>\n",
       "    <tr>\n",
       "      <th>648518346490433628</th>\n",
       "      <td>3162698043</td>\n",
       "      <td>10152.0</td>\n",
       "      <td>7357.0</td>\n",
       "      <td>2517.0</td>\n",
       "      <td>949.0</td>\n",
       "    </tr>\n",
       "    <tr>\n",
       "      <th>648518346496404378</th>\n",
       "      <td>2617142755</td>\n",
       "      <td>18.0</td>\n",
       "      <td>2.0</td>\n",
       "      <td>17.0</td>\n",
       "      <td>1.0</td>\n",
       "    </tr>\n",
       "    <tr>\n",
       "      <th>648518346492002161</th>\n",
       "      <td>2084178692</td>\n",
       "      <td>10.0</td>\n",
       "      <td>1.0</td>\n",
       "      <td>10.0</td>\n",
       "      <td>1.0</td>\n",
       "    </tr>\n",
       "    <tr>\n",
       "      <th>648518346501373528</th>\n",
       "      <td>1052590135</td>\n",
       "      <td>409.0</td>\n",
       "      <td>237.0</td>\n",
       "      <td>5509.0</td>\n",
       "      <td>659.0</td>\n",
       "    </tr>\n",
       "    <tr>\n",
       "      <th>648518346518399574</th>\n",
       "      <td>921837464</td>\n",
       "      <td>474.0</td>\n",
       "      <td>313.0</td>\n",
       "      <td>7522.0</td>\n",
       "      <td>774.0</td>\n",
       "    </tr>\n",
       "    <tr>\n",
       "      <th>...</th>\n",
       "      <td>...</td>\n",
       "      <td>...</td>\n",
       "      <td>...</td>\n",
       "      <td>...</td>\n",
       "      <td>...</td>\n",
       "    </tr>\n",
       "    <tr>\n",
       "      <th>648518346394034338</th>\n",
       "      <td>587</td>\n",
       "      <td>11.0</td>\n",
       "      <td>10.0</td>\n",
       "      <td>0.0</td>\n",
       "      <td>0.0</td>\n",
       "    </tr>\n",
       "    <tr>\n",
       "      <th>648518346486616889</th>\n",
       "      <td>504</td>\n",
       "      <td>11.0</td>\n",
       "      <td>11.0</td>\n",
       "      <td>0.0</td>\n",
       "      <td>0.0</td>\n",
       "    </tr>\n",
       "    <tr>\n",
       "      <th>648518346348083949</th>\n",
       "      <td>479</td>\n",
       "      <td>10.0</td>\n",
       "      <td>10.0</td>\n",
       "      <td>0.0</td>\n",
       "      <td>0.0</td>\n",
       "    </tr>\n",
       "    <tr>\n",
       "      <th>648518346414043717</th>\n",
       "      <td>473</td>\n",
       "      <td>10.0</td>\n",
       "      <td>10.0</td>\n",
       "      <td>0.0</td>\n",
       "      <td>0.0</td>\n",
       "    </tr>\n",
       "    <tr>\n",
       "      <th>648518346495842634</th>\n",
       "      <td>324</td>\n",
       "      <td>10.0</td>\n",
       "      <td>10.0</td>\n",
       "      <td>0.0</td>\n",
       "      <td>0.0</td>\n",
       "    </tr>\n",
       "  </tbody>\n",
       "</table>\n",
       "<p>236654 rows × 5 columns</p>\n",
       "</div>"
      ],
      "text/plain": [
       "                          size   nr_pre  nr_downstream_partner  nr_post  \\\n",
       "segment_id                                                                \n",
       "648518346490433628  3162698043  10152.0                 7357.0   2517.0   \n",
       "648518346496404378  2617142755     18.0                    2.0     17.0   \n",
       "648518346492002161  2084178692     10.0                    1.0     10.0   \n",
       "648518346501373528  1052590135    409.0                  237.0   5509.0   \n",
       "648518346518399574   921837464    474.0                  313.0   7522.0   \n",
       "...                        ...      ...                    ...      ...   \n",
       "648518346394034338         587     11.0                   10.0      0.0   \n",
       "648518346486616889         504     11.0                   11.0      0.0   \n",
       "648518346348083949         479     10.0                   10.0      0.0   \n",
       "648518346414043717         473     10.0                   10.0      0.0   \n",
       "648518346495842634         324     10.0                   10.0      0.0   \n",
       "\n",
       "                    nr_upstream_partner  \n",
       "segment_id                               \n",
       "648518346490433628                949.0  \n",
       "648518346496404378                  1.0  \n",
       "648518346492002161                  1.0  \n",
       "648518346501373528                659.0  \n",
       "648518346518399574                774.0  \n",
       "...                                 ...  \n",
       "648518346394034338                  0.0  \n",
       "648518346486616889                  0.0  \n",
       "648518346348083949                  0.0  \n",
       "648518346414043717                  0.0  \n",
       "648518346495842634                  0.0  \n",
       "\n",
       "[236654 rows x 5 columns]"
      ]
     },
     "execution_count": 7,
     "metadata": {},
     "output_type": "execute_result"
    }
   ],
   "source": [
    "interneuron_node_table"
   ]
  },
  {
   "cell_type": "code",
   "execution_count": 8,
   "metadata": {},
   "outputs": [
    {
     "data": {
      "text/plain": [
       "UInt64Index([648518346486739129, 648518346488558033, 648518346427198243,\n",
       "             648518346481656074, 648518346496486018, 648518346486133354,\n",
       "             648518346494999899, 648518346471647758, 648518346498099765,\n",
       "             648518346466461643, 648518346514551845, 648518346509569481,\n",
       "             648518346489912171, 648518346472500598, 648518346494653091,\n",
       "             648518346498408297, 648518346497200026, 648518346498411916,\n",
       "             648518346488190986, 648518346487620082],\n",
       "            dtype='uint64', name='segment_id')"
      ]
     },
     "execution_count": 8,
     "metadata": {},
     "output_type": "execute_result"
    }
   ],
   "source": [
    "interneuron_node_table.sample(20).index"
   ]
  },
  {
   "cell_type": "code",
   "execution_count": 9,
   "metadata": {},
   "outputs": [
    {
     "data": {
      "text/plain": [
       "(45055925.0, 45055925.0)"
      ]
     },
     "execution_count": 9,
     "metadata": {},
     "output_type": "execute_result"
    }
   ],
   "source": [
    "ds.node_table['nr_pre'].sum(), ds.node_table['nr_post'].sum()"
   ]
  },
  {
   "cell_type": "code",
   "execution_count": 10,
   "metadata": {},
   "outputs": [
    {
     "data": {
      "text/plain": [
       "(31493003.0, 31493003.0)"
      ]
     },
     "execution_count": 10,
     "metadata": {},
     "output_type": "execute_result"
    }
   ],
   "source": [
    "ds.node_table['nr_downstream_partner'].sum(), ds.node_table['nr_upstream_partner'].sum()"
   ]
  },
  {
   "cell_type": "code",
   "execution_count": 12,
   "metadata": {},
   "outputs": [],
   "source": [
    "sel = interneuron_node_table.copy()"
   ]
  },
  {
   "cell_type": "code",
   "execution_count": 18,
   "metadata": {},
   "outputs": [
    {
     "data": {
      "text/plain": [
       "UInt64Index([648518346524693463, 648518346511250143, 648518346495740796,\n",
       "             648518346485453700, 648518346499223868, 648518346506483102,\n",
       "             648518346501736009, 648518346502361397, 648518346506905381,\n",
       "             648518346491726232, 648518346503982408, 648518346479001568,\n",
       "             648518346505237585, 648518346499616581, 648518346514346070,\n",
       "             648518346495189942, 648518346487932496, 648518346488058727,\n",
       "             648518346487688916, 648518346491395175],\n",
       "            dtype='uint64', name='segment_id')"
      ]
     },
     "execution_count": 18,
     "metadata": {},
     "output_type": "execute_result"
    }
   ],
   "source": [
    "sel['nr_total'] = sel['nr_pre'] + sel['nr_post']\n",
    "sel['io_ratio'] = sel['nr_post'] / sel['nr_pre']\n",
    "sel.query('nr_total >= 200 and (io_ratio > 5 or io_ratio < 0.1)').sample(20).index"
   ]
  },
  {
   "cell_type": "code",
   "execution_count": 14,
   "metadata": {},
   "outputs": [
    {
     "data": {
      "text/html": [
       "<div>\n",
       "<style scoped>\n",
       "    .dataframe tbody tr th:only-of-type {\n",
       "        vertical-align: middle;\n",
       "    }\n",
       "\n",
       "    .dataframe tbody tr th {\n",
       "        vertical-align: top;\n",
       "    }\n",
       "\n",
       "    .dataframe thead th {\n",
       "        text-align: right;\n",
       "    }\n",
       "</style>\n",
       "<table border=\"1\" class=\"dataframe\">\n",
       "  <thead>\n",
       "    <tr style=\"text-align: right;\">\n",
       "      <th></th>\n",
       "      <th>size</th>\n",
       "      <th>nr_pre</th>\n",
       "      <th>nr_downstream_partner</th>\n",
       "      <th>nr_post</th>\n",
       "      <th>nr_upstream_partner</th>\n",
       "      <th>nr_total</th>\n",
       "      <th>io_ratio</th>\n",
       "    </tr>\n",
       "    <tr>\n",
       "      <th>segment_id</th>\n",
       "      <th></th>\n",
       "      <th></th>\n",
       "      <th></th>\n",
       "      <th></th>\n",
       "      <th></th>\n",
       "      <th></th>\n",
       "      <th></th>\n",
       "    </tr>\n",
       "  </thead>\n",
       "  <tbody>\n",
       "    <tr>\n",
       "      <th>648518346490433628</th>\n",
       "      <td>3162698043</td>\n",
       "      <td>10152.0</td>\n",
       "      <td>7357.0</td>\n",
       "      <td>2517.0</td>\n",
       "      <td>949.0</td>\n",
       "      <td>12669.0</td>\n",
       "      <td>0.247931</td>\n",
       "    </tr>\n",
       "    <tr>\n",
       "      <th>648518346496404378</th>\n",
       "      <td>2617142755</td>\n",
       "      <td>18.0</td>\n",
       "      <td>2.0</td>\n",
       "      <td>17.0</td>\n",
       "      <td>1.0</td>\n",
       "      <td>35.0</td>\n",
       "      <td>0.944444</td>\n",
       "    </tr>\n",
       "    <tr>\n",
       "      <th>648518346492002161</th>\n",
       "      <td>2084178692</td>\n",
       "      <td>10.0</td>\n",
       "      <td>1.0</td>\n",
       "      <td>10.0</td>\n",
       "      <td>1.0</td>\n",
       "      <td>20.0</td>\n",
       "      <td>1.000000</td>\n",
       "    </tr>\n",
       "    <tr>\n",
       "      <th>648518346501373528</th>\n",
       "      <td>1052590135</td>\n",
       "      <td>409.0</td>\n",
       "      <td>237.0</td>\n",
       "      <td>5509.0</td>\n",
       "      <td>659.0</td>\n",
       "      <td>5918.0</td>\n",
       "      <td>13.469438</td>\n",
       "    </tr>\n",
       "    <tr>\n",
       "      <th>648518346518399574</th>\n",
       "      <td>921837464</td>\n",
       "      <td>474.0</td>\n",
       "      <td>313.0</td>\n",
       "      <td>7522.0</td>\n",
       "      <td>774.0</td>\n",
       "      <td>7996.0</td>\n",
       "      <td>15.869198</td>\n",
       "    </tr>\n",
       "    <tr>\n",
       "      <th>...</th>\n",
       "      <td>...</td>\n",
       "      <td>...</td>\n",
       "      <td>...</td>\n",
       "      <td>...</td>\n",
       "      <td>...</td>\n",
       "      <td>...</td>\n",
       "      <td>...</td>\n",
       "    </tr>\n",
       "    <tr>\n",
       "      <th>648518346394034338</th>\n",
       "      <td>587</td>\n",
       "      <td>11.0</td>\n",
       "      <td>10.0</td>\n",
       "      <td>0.0</td>\n",
       "      <td>0.0</td>\n",
       "      <td>11.0</td>\n",
       "      <td>0.000000</td>\n",
       "    </tr>\n",
       "    <tr>\n",
       "      <th>648518346486616889</th>\n",
       "      <td>504</td>\n",
       "      <td>11.0</td>\n",
       "      <td>11.0</td>\n",
       "      <td>0.0</td>\n",
       "      <td>0.0</td>\n",
       "      <td>11.0</td>\n",
       "      <td>0.000000</td>\n",
       "    </tr>\n",
       "    <tr>\n",
       "      <th>648518346348083949</th>\n",
       "      <td>479</td>\n",
       "      <td>10.0</td>\n",
       "      <td>10.0</td>\n",
       "      <td>0.0</td>\n",
       "      <td>0.0</td>\n",
       "      <td>10.0</td>\n",
       "      <td>0.000000</td>\n",
       "    </tr>\n",
       "    <tr>\n",
       "      <th>648518346414043717</th>\n",
       "      <td>473</td>\n",
       "      <td>10.0</td>\n",
       "      <td>10.0</td>\n",
       "      <td>0.0</td>\n",
       "      <td>0.0</td>\n",
       "      <td>10.0</td>\n",
       "      <td>0.000000</td>\n",
       "    </tr>\n",
       "    <tr>\n",
       "      <th>648518346495842634</th>\n",
       "      <td>324</td>\n",
       "      <td>10.0</td>\n",
       "      <td>10.0</td>\n",
       "      <td>0.0</td>\n",
       "      <td>0.0</td>\n",
       "      <td>10.0</td>\n",
       "      <td>0.000000</td>\n",
       "    </tr>\n",
       "  </tbody>\n",
       "</table>\n",
       "<p>236654 rows × 7 columns</p>\n",
       "</div>"
      ],
      "text/plain": [
       "                          size   nr_pre  nr_downstream_partner  nr_post  \\\n",
       "segment_id                                                                \n",
       "648518346490433628  3162698043  10152.0                 7357.0   2517.0   \n",
       "648518346496404378  2617142755     18.0                    2.0     17.0   \n",
       "648518346492002161  2084178692     10.0                    1.0     10.0   \n",
       "648518346501373528  1052590135    409.0                  237.0   5509.0   \n",
       "648518346518399574   921837464    474.0                  313.0   7522.0   \n",
       "...                        ...      ...                    ...      ...   \n",
       "648518346394034338         587     11.0                   10.0      0.0   \n",
       "648518346486616889         504     11.0                   11.0      0.0   \n",
       "648518346348083949         479     10.0                   10.0      0.0   \n",
       "648518346414043717         473     10.0                   10.0      0.0   \n",
       "648518346495842634         324     10.0                   10.0      0.0   \n",
       "\n",
       "                    nr_upstream_partner  nr_total   io_ratio  \n",
       "segment_id                                                    \n",
       "648518346490433628                949.0   12669.0   0.247931  \n",
       "648518346496404378                  1.0      35.0   0.944444  \n",
       "648518346492002161                  1.0      20.0   1.000000  \n",
       "648518346501373528                659.0    5918.0  13.469438  \n",
       "648518346518399574                774.0    7996.0  15.869198  \n",
       "...                                 ...       ...        ...  \n",
       "648518346394034338                  0.0      11.0   0.000000  \n",
       "648518346486616889                  0.0      11.0   0.000000  \n",
       "648518346348083949                  0.0      10.0   0.000000  \n",
       "648518346414043717                  0.0      10.0   0.000000  \n",
       "648518346495842634                  0.0      10.0   0.000000  \n",
       "\n",
       "[236654 rows x 7 columns]"
      ]
     },
     "execution_count": 14,
     "metadata": {},
     "output_type": "execute_result"
    }
   ],
   "source": [
    "sel"
   ]
  },
  {
   "cell_type": "code",
   "execution_count": null,
   "metadata": {},
   "outputs": [],
   "source": []
  }
 ],
 "metadata": {
  "kernelspec": {
   "display_name": "connectomics",
   "language": "python",
   "name": "python3"
  },
  "language_info": {
   "codemirror_mode": {
    "name": "ipython",
    "version": 3
   },
   "file_extension": ".py",
   "mimetype": "text/x-python",
   "name": "python",
   "nbconvert_exporter": "python",
   "pygments_lexer": "ipython3",
   "version": "3.10.6 | packaged by conda-forge | (main, Aug 22 2022, 20:36:39) [GCC 10.4.0]"
  },
  "orig_nbformat": 4,
  "vscode": {
   "interpreter": {
    "hash": "2d4e58d82a59013d93608213921fde3e0f103d0e0c84f95bc077c4b72300d9ab"
   }
  }
 },
 "nbformat": 4,
 "nbformat_minor": 2
}
